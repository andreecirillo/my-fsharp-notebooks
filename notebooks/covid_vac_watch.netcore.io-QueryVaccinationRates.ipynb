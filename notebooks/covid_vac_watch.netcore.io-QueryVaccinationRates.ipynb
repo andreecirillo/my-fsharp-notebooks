{
    "cells": [
        {
            "cell_type": "code",
            "execution_count": 0,
            "metadata": {
                
            },
            "outputs": [
                
            ],
            "source": [
                "#r \"nuget:ServiceStack.Client\"\n",
                "#r \"nuget:ServiceStack.Common\"\n",
                "\n",
                "\n",
                "\n",
                "open System\n",
                "open System.Collections\n",
                "open System.Collections.Generic\n",
                "open System.Runtime.Serialization\n",
                "open ServiceStack\n",
                "open ServiceStack.DataAnnotations\n",
                "\n",
                "[<AllowNullLiteral>]\n",
                "type VaccinationData() = \n",
                "    member val Id:Int32 = new Int32() with get,set\n",
                "    member val Date:DateTime = new DateTime() with get,set\n",
                "    member val Location:String = null with get,set\n",
                "    member val TotalVaccinations:Nullable<Decimal> = new Nullable<Decimal>() with get,set\n",
                "    member val TotalDistributed:Nullable<Decimal> = new Nullable<Decimal>() with get,set\n",
                "    member val PeopleVaccinated:Nullable<Decimal> = new Nullable<Decimal>() with get,set\n",
                "    member val PeopleFullyVaccinatedPerHundred:Nullable<Decimal> = new Nullable<Decimal>() with get,set\n",
                "    member val TotalVaccinationsPerHundred:Nullable<Decimal> = new Nullable<Decimal>() with get,set\n",
                "    member val PeopleFullyVaccinated:Nullable<Decimal> = new Nullable<Decimal>() with get,set\n",
                "    member val PeopleVaccinatedPerHundred:Nullable<Decimal> = new Nullable<Decimal>() with get,set\n",
                "    member val DistributedPerHundred:Nullable<Decimal> = new Nullable<Decimal>() with get,set\n",
                "    member val DailyVaccinationsRaw:Nullable<Decimal> = new Nullable<Decimal>() with get,set\n",
                "    member val DailyVaccinations:Nullable<Decimal> = new Nullable<Decimal>() with get,set\n",
                "    member val DailyVaccinationsPerMillion:Nullable<Decimal> = new Nullable<Decimal>() with get,set\n",
                "    member val ShareDosesUsed:Nullable<Decimal> = new Nullable<Decimal>() with get,set\n",
                "\n",
                "[<Route(\"/vaccination_rates\")>]\n",
                "[<AllowNullLiteral>]\n",
                "type QueryVaccinationRates() = \n",
                "    inherit QueryDb<VaccinationData>()\n",
                "    interface IReturn<QueryResponse<VaccinationData>>\n",
                "    member val Location:String = null with get,set\n",
                "    member val Date:Nullable<DateTime> = new Nullable<DateTime>() with get,set\n",
                "    member val DateGreaterThan:Nullable<DateTime> = new Nullable<DateTime>() with get,set\n",
                "    member val DateLessThan:Nullable<DateTime> = new Nullable<DateTime>() with get,set\n",
                "\n",
                "\n",
                "\n",
                "let client = new JsonServiceClient(\"https://covid-vac-watch.netcore.io\")\n"
            ]
        },
        {
            "cell_type": "code",
            "execution_count": 0,
            "metadata": {
                
            },
            "outputs": [
                
            ],
            "source": [
                "let response = client.Send(new QueryVaccinationRates ())\n"
            ]
        },
        {
            "cell_type": "code",
            "execution_count": 0,
            "metadata": {
                
            },
            "outputs": [
                
            ],
            "source": [
                "display(HTML(Inspect.htmlDump(response)))\n"
            ]
        },
        {
            "cell_type": "code",
            "execution_count": 0,
            "metadata": {
                
            },
            "outputs": [
                
            ],
            "source": [
                "Inspect.printDumpTable(response.Results,\n",
                "    headers=[|\"Id\"; \"Date\"; \"Location\"; \"TotalVaccinations\"; \"TotalDistributed\"; \"PeopleVaccinated\"; \"PeopleFullyVaccinatedPerHundred\"; \"TotalVaccinationsPerHundred\"; \"PeopleFullyVaccinated\"; \"PeopleVaccinatedPerHundred\"; \"DistributedPerHundred\"; \"DailyVaccinationsRaw\"; \"DailyVaccinations\"; \"DailyVaccinationsPerMillion\"; \"ShareDosesUsed\"|])\n"
            ]
        }
    ],
    "metadata": {
        "kernelspec": {
            "display_name": ".NET (F#)",
            "name": ".net-fsharp"
        },
        "language_info": {
            "name": "F#"
        },
        "orig_nbformat": 4
    },
    "nbformat": 4,
    "nbformat_minor": 2
}